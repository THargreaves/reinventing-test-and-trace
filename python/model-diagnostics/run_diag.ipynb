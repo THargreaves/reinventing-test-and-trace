{
 "cells": [
  {
   "cell_type": "code",
   "execution_count": 1,
   "id": "collected-toner",
   "metadata": {},
   "outputs": [],
   "source": [
    "import time\n",
    "import arviz\n",
    "import matplotlib.pyplot as plt\n",
    "import numpy as np\n",
    "import pandas as pd\n",
    "import stan\n",
    "import nest_asyncio\n",
    "nest_asyncio.apply()"
   ]
  },
  {
   "cell_type": "code",
   "execution_count": 2,
   "id": "approximate-medium",
   "metadata": {},
   "outputs": [],
   "source": [
    "np.random.seed(1729)"
   ]
  },
  {
   "cell_type": "code",
   "execution_count": 3,
   "id": "cooperative-slope",
   "metadata": {},
   "outputs": [],
   "source": [
    "def simulate_data(N, P):\n",
    "        \n",
    "        # Simulating transmission and occurence rates\n",
    "        transmission_rate = np.random.beta(2, 10, P)\n",
    "        occurrence_rate = np.random.beta(2, 10, P)\n",
    "        base_rate = np.random.beta(2, 10, 1)\n",
    "        \n",
    "        data = {}\n",
    "        for p in range(P):\n",
    "            occurrence = np.random.binomial(1, occurrence_rate[p], N)\n",
    "            transmission = occurrence * np.random.binomial(1, transmission_rate[p], N)\n",
    "            data[f'O{p+1}'] = occurrence\n",
    "            data[f'T{p+1}'] = transmission\n",
    "        \n",
    "        data['T0'] = np.random.binomial(1, base_rate, N)\n",
    "        X = pd.DataFrame(data)\n",
    "        z = X.loc[:, X.columns.str.startswith('T')].sum(axis=1)\n",
    "        y = (z > 0).astype(int)\n",
    "        X = X.loc[:, X.columns.str.startswith('O')]\n",
    "        return {'N': N, 'P': P, 'X': X.to_numpy(), 'y': y.to_numpy()}"
   ]
  },
  {
   "cell_type": "code",
   "execution_count": 4,
   "id": "capable-child",
   "metadata": {},
   "outputs": [],
   "source": [
    "# Stan model code\n",
    "model_code = \"\"\"\n",
    "data {\n",
    "  int<lower=0> N;                            // number of observations\n",
    "  int<lower=0> P;                            // number of places\n",
    "  int<lower=0, upper=1> X[N,P];              // activity occurrences\n",
    "  int<lower=0, upper=1> y[N];                // transmission (tested positive)\n",
    "  \n",
    "}\n",
    "parameters {\n",
    "  real<lower=0, upper=1> theta[P];           // transmission rates\n",
    "  real<lower=0, upper=1> rho;                // underlying risk\n",
    "}\n",
    "transformed parameters {\n",
    "  // Precomputation\n",
    "  real log1m_theta[P];\n",
    "  real log1m_rho;\n",
    "  \n",
    "  for (p in 1:P) {\n",
    "    log1m_theta[p] = log1m(theta[p]);\n",
    "  }\n",
    "\n",
    "  log1m_rho = log1m(rho);\n",
    "}\n",
    "model {\n",
    "  // Priors\n",
    "  theta ~ uniform(0, 1);\n",
    "  rho ~ uniform(0, 1);\n",
    "  \n",
    "  // Likelihood\n",
    "  for (n in 1:N) {\n",
    "    real s = 0.0;\n",
    "    for (p in 1:P) {\n",
    "      if (X[n,p] == 1) {\n",
    "        s += log1m_theta[p];\n",
    "      }\n",
    "    }\n",
    "    s += log1m_rho;\n",
    "    \n",
    "    if (y[n] == 1) {\n",
    "      target += log1m_exp(s);\n",
    "    } \n",
    "    else {\n",
    "      target += s;\n",
    "    }\n",
    "  }\n",
    "}\n",
    "\"\"\" "
   ]
  },
  {
   "cell_type": "code",
   "execution_count": 5,
   "id": "disturbed-painting",
   "metadata": {},
   "outputs": [],
   "source": [
    "def runtime_lineplot_N(N_space, P=4):\n",
    "    \"\"\"\n",
    "    Plots model runtime as a function of the number of fitting samples\n",
    "    Saves plot as .png file\n",
    "    \n",
    "    :param model: A Test and Trace model object\n",
    "    :param N_space: One-dimensional iterable of integers for each number of fitting samples\n",
    "    \n",
    "    \"\"\" \n",
    "    N_space = np.sort(np.array(N_space))\n",
    "    runtimes = []\n",
    "    for i in N_space:\n",
    "        N = int(i)\n",
    "        print('Running model...')\n",
    "        start = time.time()\n",
    "        model_data=simulate_data(N,P)\n",
    "        posterior = stan.build(model_code, data=model_data, random_seed=1)\n",
    "        fit = posterior.sample(num_samples=1000, num_warmup=500, num_chains=4)\n",
    "        end = time.time()\n",
    "        print('Finished running')\n",
    "        runtimes.append((end - start))\n",
    "    \n",
    "    fig, ax = plt.subplots()\n",
    "    ax.plot(N_space, runtimes, color='tab:orange')\n",
    "    ax.set_ylabel('Runtime')\n",
    "    ax.set_xlabel('Number of fitting samples')\n",
    "    ax.set_title('Model Runtime')\n",
    "    fig.tight_layout()\n",
    "    plt.savefig('runtime_N_plot.png')\n",
    "    plt.show()"
   ]
  },
  {
   "cell_type": "code",
   "execution_count": null,
   "id": "normal-origin",
   "metadata": {},
   "outputs": [
    {
     "name": "stderr",
     "output_type": "stream",
     "text": [
      "Building..."
     ]
    },
    {
     "name": "stdout",
     "output_type": "stream",
     "text": [
      "Running model...\n"
     ]
    },
    {
     "name": "stderr",
     "output_type": "stream",
     "text": [
      "\n",
      "Found model in cache. Done.\n",
      "Sampling...\n",
      "    0/6000 [>---------------------------]   0%  1 sec/0     \n",
      "    1/6000 [>---------------------------]   0%  1 sec/6453  \n",
      "  100/6000 [>---------------------------]   1% 3 secs/129   \n",
      "  200/6000 [>---------------------------]   3% 4 secs/97    \n",
      "  300/6000 [=>--------------------------]   5% 5 secs/85    \n",
      "  400/6000 [=>--------------------------]   6% 6 secs/79    \n",
      "  500/6000 [==>-------------------------]   8% 7 secs/76    \n",
      "  501/6000 [==>-------------------------]   8% 8 secs/88    \n",
      "  600/6000 [==>-------------------------]  10% 8 secs/77    \n",
      "  600/6000 [==>-------------------------]  10% 12 secs/110   \n",
      "  900/6000 [====>-----------------------]  15% 20 secs/128   \n",
      " 1100/6000 [=====>----------------------]  18% 21 secs/113   \n",
      " 1200/6000 [=====>----------------------]  20% 22 secs/106   \n",
      " 1200/6000 [=====>----------------------]  20% 23 secs/112   \n",
      " 1300/6000 [======>---------------------]  21% 25 secs/113   "
     ]
    }
   ],
   "source": [
    "a = 10**4\n",
    "Ns = [5*(10**5), a, 5*a, 10*a,50*a]\n",
    "runtime_lineplot_N(Ns, P=4)"
   ]
  },
  {
   "cell_type": "code",
   "execution_count": null,
   "id": "federal-local",
   "metadata": {},
   "outputs": [],
   "source": []
  }
 ],
 "metadata": {
  "kernelspec": {
   "display_name": "Python 3",
   "language": "python",
   "name": "python3"
  },
  "language_info": {
   "codemirror_mode": {
    "name": "ipython",
    "version": 3
   },
   "file_extension": ".py",
   "mimetype": "text/x-python",
   "name": "python",
   "nbconvert_exporter": "python",
   "pygments_lexer": "ipython3",
   "version": "3.7.10"
  }
 },
 "nbformat": 4,
 "nbformat_minor": 5
}
