{
 "cells": [
  {
   "cell_type": "code",
   "execution_count": 1,
   "metadata": {},
   "outputs": [],
   "source": [
    "import time\n",
    "\n",
    "import numpy as np\n",
    "import pandas as pd\n",
    "import tensorflow as tf\n",
    "import tensorflow_probability as tfp"
   ]
  },
  {
   "cell_type": "code",
   "execution_count": 2,
   "metadata": {},
   "outputs": [],
   "source": [
    "tfd = tfp.distributions"
   ]
  },
  {
   "cell_type": "code",
   "execution_count": 3,
   "metadata": {},
   "outputs": [
    {
     "data": {
      "text/plain": [
       "[]"
      ]
     },
     "execution_count": 3,
     "metadata": {},
     "output_type": "execute_result"
    }
   ],
   "source": [
    "# Confirm GPU in use\n",
    "tf.config.list_physical_devices('GPU')"
   ]
  },
  {
   "cell_type": "code",
   "execution_count": 4,
   "metadata": {},
   "outputs": [],
   "source": [
    "# Parameters\n",
    "P = 10\n",
    "N = 10 ** 4\n",
    "SEED = 1729"
   ]
  },
  {
   "cell_type": "code",
   "execution_count": 5,
   "metadata": {},
   "outputs": [],
   "source": [
    "# Ground truth\n",
    "np.random.seed(SEED)\n",
    "true_transmission_rate = np.random.beta(2, 10, P)\n",
    "true_occurrence_rate = np.random.beta(2, 10, P)\n",
    "base_rate = np.random.beta(2, 10, 1)"
   ]
  },
  {
   "cell_type": "code",
   "execution_count": 6,
   "metadata": {},
   "outputs": [],
   "source": [
    "# Simulate data\n",
    "data = {}\n",
    "for p in range(P):\n",
    "    occurrence = np.random.binomial(1, true_occurrence_rate[p], N)\n",
    "    transmission = occurrence * np.random.binomial(1, true_transmission_rate[p], N)\n",
    "    data[f'O{p+1}'] = occurrence\n",
    "    data[f'T{p+1}'] = transmission\n",
    "data['T0'] = np.random.binomial(1, base_rate, N)\n",
    "X = pd.DataFrame(data)\n",
    "\n",
    "z = X.loc[:, X.columns.str.startswith('T')].sum(axis=1)\n",
    "X = X.loc[:, X.columns.str.startswith('O')]\n",
    "y = (z > 0).astype(int)"
   ]
  },
  {
   "cell_type": "code",
   "execution_count": 7,
   "metadata": {},
   "outputs": [],
   "source": [
    "# Convert to tensors\n",
    "X = tf.convert_to_tensor(X, dtype=tf.float32)\n",
    "y = tf.convert_to_tensor(y, dtype=tf.float32)\n",
    "# Move to GPU\n",
    "X = X + tf.fill(X.shape, 0.0)\n",
    "y = y + tf.fill(y.shape, 0.0)"
   ]
  },
  {
   "cell_type": "code",
   "execution_count": 8,
   "metadata": {},
   "outputs": [
    {
     "data": {
      "text/plain": [
       "<tf.Tensor: shape=(3,), dtype=float32, numpy=array([0.8, 0. , 0.5], dtype=float32)>"
      ]
     },
     "execution_count": 8,
     "metadata": {},
     "output_type": "execute_result"
    }
   ],
   "source": [
    "theta = tf.constant([0.3, 0.4, 0.5])\n",
    "X_test = tf.constant([\n",
    "    [1., 0., 1.],\n",
    "    [0., 0., 0.],\n",
    "    [0., 0., 1.]\n",
    "])\n",
    "tf.einsum('ij,j->i', X_test, theta)"
   ]
  },
  {
   "cell_type": "code",
   "execution_count": 9,
   "metadata": {},
   "outputs": [],
   "source": [
    "# Define log-likelihood\n",
    "@tf.function\n",
    "def censored_poisbinom_loglike(theta, rho):\n",
    "    if tf.math.reduce_any(tf.math.logical_or(theta <= 0., theta >= 1.)):\n",
    "        return -np.inf\n",
    "    if tf.math.logical_or(rho <= 0., rho >= 1.):\n",
    "        return -np.inf\n",
    "    log1m_theta = tf.math.log(1-theta)\n",
    "    s = tf.einsum('ij,j->i', X, log1m_theta) + tf.math.log(1-rho)\n",
    "    ll = tf.math.reduce_sum(tf.where(y == 1, tfp.math.log1mexp(s), s))\n",
    "    return ll"
   ]
  },
  {
   "cell_type": "code",
   "execution_count": 10,
   "metadata": {},
   "outputs": [],
   "source": [
    "# Define negative log-likelihood and use AD to compute gradients\n",
    "@tf.function\n",
    "def censored_poisbinom_negloglike(params):\n",
    "    theta, rho = tf.split(params, [P, 1], axis=0)\n",
    "    # need to take these back down to vectors and scalars:\n",
    "    theta = tf.reshape(theta,(P,))\n",
    "    rho = tf.reshape(rho,())\n",
    "    return -1 * censored_poisbinom_loglike(theta, rho)\n",
    "\n",
    "@tf.function\n",
    "def censored_poisbinom_negloglike_and_grad(params):\n",
    "    return tfp.math.value_and_gradient(\n",
    "        censored_poisbinom_negloglike, \n",
    "        params\n",
    "    )"
   ]
  },
  {
   "cell_type": "code",
   "execution_count": 11,
   "metadata": {},
   "outputs": [
    {
     "name": "stdout",
     "output_type": "stream",
     "text": [
      "Function value:  10988.141\n",
      "Gradients:  [  562.4251  1554.1022   633.9632  3923.1562  2009.3623  2069.5625\n",
      "   830.4645  1409.53     865.2234  1347.9547 10419.396 ]\n"
     ]
    }
   ],
   "source": [
    "# Test AD\n",
    "test_val = tf.fill(P + 1, 0.5)\n",
    "out = censored_poisbinom_negloglike_and_grad(test_val)\n",
    "print(\"Function value: \", out[0].numpy())\n",
    "print(\"Gradients: \", out[1].numpy())"
   ]
  },
  {
   "cell_type": "code",
   "execution_count": 12,
   "metadata": {},
   "outputs": [
    {
     "data": {
      "text/html": [
       "<div>\n",
       "<style scoped>\n",
       "    .dataframe tbody tr th:only-of-type {\n",
       "        vertical-align: middle;\n",
       "    }\n",
       "\n",
       "    .dataframe tbody tr th {\n",
       "        vertical-align: top;\n",
       "    }\n",
       "\n",
       "    .dataframe thead th {\n",
       "        text-align: right;\n",
       "    }\n",
       "</style>\n",
       "<table border=\"1\" class=\"dataframe\">\n",
       "  <thead>\n",
       "    <tr style=\"text-align: right;\">\n",
       "      <th></th>\n",
       "      <th>estimate</th>\n",
       "      <th>std err</th>\n",
       "      <th>true_val</th>\n",
       "    </tr>\n",
       "  </thead>\n",
       "  <tbody>\n",
       "    <tr>\n",
       "      <th>theta_1</th>\n",
       "      <td>0.181833</td>\n",
       "      <td>0.032634</td>\n",
       "      <td>0.112290</td>\n",
       "    </tr>\n",
       "    <tr>\n",
       "      <th>theta_2</th>\n",
       "      <td>0.191400</td>\n",
       "      <td>0.020445</td>\n",
       "      <td>0.215440</td>\n",
       "    </tr>\n",
       "    <tr>\n",
       "      <th>theta_3</th>\n",
       "      <td>0.126246</td>\n",
       "      <td>0.031590</td>\n",
       "      <td>0.134004</td>\n",
       "    </tr>\n",
       "    <tr>\n",
       "      <th>theta_4</th>\n",
       "      <td>0.044148</td>\n",
       "      <td>0.015077</td>\n",
       "      <td>0.034960</td>\n",
       "    </tr>\n",
       "    <tr>\n",
       "      <th>theta_5</th>\n",
       "      <td>0.134057</td>\n",
       "      <td>0.019146</td>\n",
       "      <td>0.140240</td>\n",
       "    </tr>\n",
       "    <tr>\n",
       "      <th>theta_6</th>\n",
       "      <td>0.383548</td>\n",
       "      <td>0.013928</td>\n",
       "      <td>0.389962</td>\n",
       "    </tr>\n",
       "    <tr>\n",
       "      <th>theta_7</th>\n",
       "      <td>0.084249</td>\n",
       "      <td>0.027957</td>\n",
       "      <td>0.061519</td>\n",
       "    </tr>\n",
       "    <tr>\n",
       "      <th>theta_8</th>\n",
       "      <td>0.094536</td>\n",
       "      <td>0.022795</td>\n",
       "      <td>0.096669</td>\n",
       "    </tr>\n",
       "    <tr>\n",
       "      <th>theta_9</th>\n",
       "      <td>0.102357</td>\n",
       "      <td>0.027583</td>\n",
       "      <td>0.086170</td>\n",
       "    </tr>\n",
       "    <tr>\n",
       "      <th>theta_10</th>\n",
       "      <td>0.052156</td>\n",
       "      <td>0.024157</td>\n",
       "      <td>0.052647</td>\n",
       "    </tr>\n",
       "    <tr>\n",
       "      <th>rho</th>\n",
       "      <td>0.205299</td>\n",
       "      <td>0.008514</td>\n",
       "      <td>0.206075</td>\n",
       "    </tr>\n",
       "  </tbody>\n",
       "</table>\n",
       "</div>"
      ],
      "text/plain": [
       "          estimate   std err  true_val\n",
       "theta_1   0.181833  0.032634  0.112290\n",
       "theta_2   0.191400  0.020445  0.215440\n",
       "theta_3   0.126246  0.031590  0.134004\n",
       "theta_4   0.044148  0.015077  0.034960\n",
       "theta_5   0.134057  0.019146  0.140240\n",
       "theta_6   0.383548  0.013928  0.389962\n",
       "theta_7   0.084249  0.027957  0.061519\n",
       "theta_8   0.094536  0.022795  0.096669\n",
       "theta_9   0.102357  0.027583  0.086170\n",
       "theta_10  0.052156  0.024157  0.052647\n",
       "rho       0.205299  0.008514  0.206075"
      ]
     },
     "metadata": {},
     "output_type": "display_data"
    }
   ],
   "source": [
    "# Approximate MLE using gradient descent\n",
    "start = tf.fill(P + 1, 0.5)\n",
    "\n",
    "optim_results = tfp.optimizer.bfgs_minimize(\n",
    "    censored_poisbinom_negloglike_and_grad, start, tolerance=1e-8\n",
    ")\n",
    "\n",
    "est_params = optim_results.position.numpy()\n",
    "est_serr = np.sqrt(np.diagonal(optim_results.inverse_hessian_estimate.numpy()))\n",
    "display(pd.DataFrame(\n",
    "    np.c_[est_params, est_serr, np.concatenate([true_transmission_rate, base_rate])],\n",
    "    columns=['estimate', 'std err', 'true_val'],\n",
    "    index=[f'theta_{i}' for i in range(1, P + 1)] + ['rho']\n",
    "))"
   ]
  },
  {
   "cell_type": "code",
   "execution_count": 13,
   "metadata": {},
   "outputs": [],
   "source": [
    "# Set model parameters\n",
    "nuts_samples = 5000\n",
    "nuts_burnin = 2000\n",
    "chains = 4\n",
    "init_step_size=.3\n",
    "init = [est_params[:P], est_params[-1]]"
   ]
  },
  {
   "cell_type": "code",
   "execution_count": 14,
   "metadata": {},
   "outputs": [
    {
     "name": "stdout",
     "output_type": "stream",
     "text": [
      "Multiple chains requested:  4\n"
     ]
    },
    {
     "data": {
      "text/plain": [
       "[array([0.18183324, 0.19140013, 0.12624551, 0.0441478 , 0.13405716,\n",
       "        0.38354763, 0.08424909, 0.09453578, 0.10235682, 0.05215601],\n",
       "       dtype=float32),\n",
       " 0.20529903]"
      ]
     },
     "execution_count": 14,
     "metadata": {},
     "output_type": "execute_result"
    }
   ],
   "source": [
    "def tile_init(init, num_repeats):\n",
    "    \"\"\"\n",
    "    create tiled initial values for multiple chains\n",
    "    idea from pymc4.inference.sample:\n",
    "    https://github.com/pymc-devs/pymc4/blob/master/pymc4/inference/sampling.py    \n",
    "    \"\"\"\n",
    "    return [np.tile(np.expand_dims(tens, 0), [num_repeats] + [1] * tens.ndim) for tens in init]\n",
    "\n",
    "#init = tile_init(init, chains)\n",
    "print(\"Multiple chains requested: \", chains)\n",
    "init"
   ]
  },
  {
   "cell_type": "code",
   "execution_count": 15,
   "metadata": {},
   "outputs": [
    {
     "name": "stdout",
     "output_type": "stream",
     "text": [
      "36.20 seconds elapsed\n"
     ]
    }
   ],
   "source": [
    "# Fit model\n",
    "@tf.function\n",
    "def nuts_sampler(init):\n",
    "    nuts_kernel = tfp.mcmc.NoUTurnSampler(\n",
    "        target_log_prob_fn=censored_poisbinom_loglike, \n",
    "        step_size=init_step_size,\n",
    "    )\n",
    "    adapt_nuts_kernel = tfp.mcmc.DualAveragingStepSizeAdaptation(\n",
    "        inner_kernel=nuts_kernel,\n",
    "        num_adaptation_steps=nuts_burnin,\n",
    "        step_size_getter_fn=lambda pkr: pkr.step_size,\n",
    "        log_accept_prob_getter_fn=lambda pkr: pkr.log_accept_ratio,\n",
    "        step_size_setter_fn=lambda pkr, new_step_size: pkr._replace(step_size=new_step_size)\n",
    "    )\n",
    "\n",
    "    samples_nuts_, stats_nuts_ = tfp.mcmc.sample_chain(\n",
    "        num_results=nuts_samples,\n",
    "        current_state=init,\n",
    "        kernel=adapt_nuts_kernel,\n",
    "        num_burnin_steps=nuts_burnin,\n",
    "        parallel_iterations=10,\n",
    "        trace_fn=None\n",
    "    )\n",
    "    return samples_nuts_, stats_nuts_\n",
    "\n",
    "start = time.time()\n",
    "samples_nuts, stats_nuts = nuts_sampler(init)\n",
    "print(f\"{time.time() - start:.02f} seconds elapsed\")"
   ]
  },
  {
   "cell_type": "code",
   "execution_count": 16,
   "metadata": {},
   "outputs": [
    {
     "data": {
      "text/html": [
       "<div>\n",
       "<style scoped>\n",
       "    .dataframe tbody tr th:only-of-type {\n",
       "        vertical-align: middle;\n",
       "    }\n",
       "\n",
       "    .dataframe tbody tr th {\n",
       "        vertical-align: top;\n",
       "    }\n",
       "\n",
       "    .dataframe thead th {\n",
       "        text-align: right;\n",
       "    }\n",
       "</style>\n",
       "<table border=\"1\" class=\"dataframe\">\n",
       "  <thead>\n",
       "    <tr style=\"text-align: right;\">\n",
       "      <th></th>\n",
       "      <th>estimate</th>\n",
       "      <th>std err</th>\n",
       "      <th>true_val</th>\n",
       "    </tr>\n",
       "  </thead>\n",
       "  <tbody>\n",
       "    <tr>\n",
       "      <th>theta_1</th>\n",
       "      <td>0.182358</td>\n",
       "      <td>0.030620</td>\n",
       "      <td>0.112290</td>\n",
       "    </tr>\n",
       "    <tr>\n",
       "      <th>theta_2</th>\n",
       "      <td>0.191242</td>\n",
       "      <td>0.018948</td>\n",
       "      <td>0.215440</td>\n",
       "    </tr>\n",
       "    <tr>\n",
       "      <th>theta_3</th>\n",
       "      <td>0.126381</td>\n",
       "      <td>0.030472</td>\n",
       "      <td>0.134004</td>\n",
       "    </tr>\n",
       "    <tr>\n",
       "      <th>theta_4</th>\n",
       "      <td>0.044083</td>\n",
       "      <td>0.013883</td>\n",
       "      <td>0.034960</td>\n",
       "    </tr>\n",
       "    <tr>\n",
       "      <th>theta_5</th>\n",
       "      <td>0.134092</td>\n",
       "      <td>0.017476</td>\n",
       "      <td>0.140240</td>\n",
       "    </tr>\n",
       "    <tr>\n",
       "      <th>theta_6</th>\n",
       "      <td>0.382923</td>\n",
       "      <td>0.013189</td>\n",
       "      <td>0.389962</td>\n",
       "    </tr>\n",
       "    <tr>\n",
       "      <th>theta_7</th>\n",
       "      <td>0.084556</td>\n",
       "      <td>0.026788</td>\n",
       "      <td>0.061519</td>\n",
       "    </tr>\n",
       "    <tr>\n",
       "      <th>theta_8</th>\n",
       "      <td>0.094355</td>\n",
       "      <td>0.021409</td>\n",
       "      <td>0.096669</td>\n",
       "    </tr>\n",
       "    <tr>\n",
       "      <th>theta_9</th>\n",
       "      <td>0.103233</td>\n",
       "      <td>0.026364</td>\n",
       "      <td>0.086170</td>\n",
       "    </tr>\n",
       "    <tr>\n",
       "      <th>theta_10</th>\n",
       "      <td>0.052972</td>\n",
       "      <td>0.020625</td>\n",
       "      <td>0.052647</td>\n",
       "    </tr>\n",
       "    <tr>\n",
       "      <th>rho</th>\n",
       "      <td>0.205972</td>\n",
       "      <td>0.008177</td>\n",
       "      <td>0.206075</td>\n",
       "    </tr>\n",
       "  </tbody>\n",
       "</table>\n",
       "</div>"
      ],
      "text/plain": [
       "          estimate   std err  true_val\n",
       "theta_1   0.182358  0.030620  0.112290\n",
       "theta_2   0.191242  0.018948  0.215440\n",
       "theta_3   0.126381  0.030472  0.134004\n",
       "theta_4   0.044083  0.013883  0.034960\n",
       "theta_5   0.134092  0.017476  0.140240\n",
       "theta_6   0.382923  0.013189  0.389962\n",
       "theta_7   0.084556  0.026788  0.061519\n",
       "theta_8   0.094355  0.021409  0.096669\n",
       "theta_9   0.103233  0.026364  0.086170\n",
       "theta_10  0.052972  0.020625  0.052647\n",
       "rho       0.205972  0.008177  0.206075"
      ]
     },
     "metadata": {},
     "output_type": "display_data"
    }
   ],
   "source": [
    "# View results\n",
    "trace_rho = stats_nuts.numpy()\n",
    "trace_theta = samples_nuts.numpy()\n",
    "est_nuts = np.r_[trace_theta.mean(axis=0), trace_rho.mean()]\n",
    "std_nuts = np.r_[trace_theta.std(axis=0), trace_rho.std()]\n",
    "# assemble and print\n",
    "display(pd.DataFrame(\n",
    "    np.c_[est_nuts, std_nuts, np.concatenate([true_transmission_rate, base_rate])],\n",
    "    columns=['estimate', 'std err', 'true_val'],\n",
    "    index=[f'theta_{i}' for i in range(1, P + 1)] + ['rho']\n",
    "))"
   ]
  }
 ],
 "metadata": {
  "kernelspec": {
   "display_name": "TensorFlow (GPU)",
   "language": "python",
   "name": "tf-gpu"
  },
  "language_info": {
   "codemirror_mode": {
    "name": "ipython",
    "version": 3
   },
   "file_extension": ".py",
   "mimetype": "text/x-python",
   "name": "python",
   "nbconvert_exporter": "python",
   "pygments_lexer": "ipython3",
   "version": "3.8.5"
  }
 },
 "nbformat": 4,
 "nbformat_minor": 4
}
