{
 "cells": [
  {
   "cell_type": "code",
   "execution_count": 1,
   "metadata": {},
   "outputs": [],
   "source": [
    "import time\n",
    "\n",
    "import numpy as np\n",
    "import pandas as pd\n",
    "import tensorflow as tf\n",
    "import tensorflow_probability as tfp"
   ]
  },
  {
   "cell_type": "code",
   "execution_count": 2,
   "metadata": {},
   "outputs": [],
   "source": [
    "tfd = tfp.distributions"
   ]
  },
  {
   "cell_type": "code",
   "execution_count": 3,
   "metadata": {},
   "outputs": [
    {
     "data": {
      "text/plain": [
       "[PhysicalDevice(name='/physical_device:GPU:0', device_type='GPU')]"
      ]
     },
     "execution_count": 3,
     "metadata": {},
     "output_type": "execute_result"
    }
   ],
   "source": [
    "# Confirm GPU in use\n",
    "tf.config.list_physical_devices('GPU')"
   ]
  },
  {
   "cell_type": "code",
   "execution_count": 4,
   "metadata": {},
   "outputs": [],
   "source": [
    "# Parameters\n",
    "P = 10\n",
    "N = 10 ** 4\n",
    "SEED = 1729"
   ]
  },
  {
   "cell_type": "code",
   "execution_count": 5,
   "metadata": {},
   "outputs": [],
   "source": [
    "# Ground truth\n",
    "np.random.seed(SEED)\n",
    "true_transmission_rate = np.random.beta(2, 10, P)\n",
    "true_occurrence_rate = np.random.beta(2, 10, P)\n",
    "base_rate = np.random.beta(2, 10, 1)"
   ]
  },
  {
   "cell_type": "code",
   "execution_count": 6,
   "metadata": {},
   "outputs": [],
   "source": [
    "# Simulate data\n",
    "data = {}\n",
    "for p in range(P):\n",
    "    occurrence = np.random.binomial(1, true_occurrence_rate[p], N)\n",
    "    transmission = occurrence * np.random.binomial(1, true_transmission_rate[p], N)\n",
    "    data[f'O{p+1}'] = occurrence\n",
    "    data[f'T{p+1}'] = transmission\n",
    "data['T0'] = np.random.binomial(1, base_rate, N)\n",
    "X = pd.DataFrame(data)\n",
    "\n",
    "z = X.loc[:, X.columns.str.startswith('T')].sum(axis=1)\n",
    "X = X.loc[:, X.columns.str.startswith('O')]\n",
    "y = (z > 0).astype(int)"
   ]
  },
  {
   "cell_type": "code",
   "execution_count": 7,
   "metadata": {},
   "outputs": [],
   "source": [
    "# Convert to tensors\n",
    "X = tf.convert_to_tensor(X, dtype=tf.float32)\n",
    "y = tf.convert_to_tensor(y, dtype=tf.float32)"
   ]
  },
  {
   "cell_type": "code",
   "execution_count": 8,
   "metadata": {},
   "outputs": [],
   "source": [
    "# Define log-likelihood\n",
    "@tf.function\n",
    "def censored_poisbinom_loglike(theta, rho):\n",
    "    if tf.math.reduce_any(tf.math.logical_or(theta <= 0., theta >= 1.)):\n",
    "        return -np.inf\n",
    "    if tf.math.logical_or(rho <= 0., rho >= 1.):\n",
    "        return -np.inf\n",
    "    log1m_theta = tf.math.log(1-theta)\n",
    "    grid = tf.reshape(tf.tile(log1m_theta, (N,)), (N, P))\n",
    "    s = tf.math.reduce_sum(tf.math.multiply(X, grid) + tf.math.log(1-rho), 1)\n",
    "    s_0 = s[y == 0]\n",
    "    s_1 = s[y == 1]\n",
    "    ll = tf.math.reduce_sum(s_0) + tf.math.reduce_sum(tfp.math.log1mexp(s_1))\n",
    "    return ll"
   ]
  },
  {
   "cell_type": "code",
   "execution_count": 9,
   "metadata": {},
   "outputs": [],
   "source": [
    "# Define negative log-likelihood and use AD to compute gradients\n",
    "@tf.function\n",
    "def censored_poisbinom_negloglike(params):\n",
    "    theta, rho = tf.split(params, [P, 1], axis=0)\n",
    "    # need to take these back down to vectors and scalars:\n",
    "    theta = tf.reshape(theta,(P,))\n",
    "    rho = tf.reshape(rho,())\n",
    "    return -1 * censored_poisbinom_loglike(theta, rho)\n",
    "\n",
    "@tf.function\n",
    "def censored_poisbinom_negloglike_and_grad(params):\n",
    "    return tfp.math.value_and_gradient(\n",
    "        censored_poisbinom_negloglike, \n",
    "        params\n",
    "    )"
   ]
  },
  {
   "cell_type": "code",
   "execution_count": 10,
   "metadata": {},
   "outputs": [
    {
     "name": "stdout",
     "output_type": "stream",
     "text": [
      "Function value:  48682.43\n",
      "Gradients:  [   633.8817   1761.6609    701.8873   4299.384    2239.622    2575.1855\n",
      "    905.8743   1549.767     947.8628   1465.8041 123353.78  ]\n"
     ]
    }
   ],
   "source": [
    "# Test AD\n",
    "test_val = tf.fill(P + 1, 0.5)\n",
    "out = censored_poisbinom_negloglike_and_grad(test_val)\n",
    "print(\"Function value: \", out[0].numpy())\n",
    "print(\"Gradients: \", out[1].numpy())"
   ]
  },
  {
   "cell_type": "code",
   "execution_count": 11,
   "metadata": {},
   "outputs": [
    {
     "data": {
      "text/html": [
       "<div>\n",
       "<style scoped>\n",
       "    .dataframe tbody tr th:only-of-type {\n",
       "        vertical-align: middle;\n",
       "    }\n",
       "\n",
       "    .dataframe tbody tr th {\n",
       "        vertical-align: top;\n",
       "    }\n",
       "\n",
       "    .dataframe thead th {\n",
       "        text-align: right;\n",
       "    }\n",
       "</style>\n",
       "<table border=\"1\" class=\"dataframe\">\n",
       "  <thead>\n",
       "    <tr style=\"text-align: right;\">\n",
       "      <th></th>\n",
       "      <th>estimate</th>\n",
       "      <th>std err</th>\n",
       "      <th>true_val</th>\n",
       "    </tr>\n",
       "  </thead>\n",
       "  <tbody>\n",
       "    <tr>\n",
       "      <th>theta_1</th>\n",
       "      <td>5.997945e-02</td>\n",
       "      <td>0.855493</td>\n",
       "      <td>0.112290</td>\n",
       "    </tr>\n",
       "    <tr>\n",
       "      <th>theta_2</th>\n",
       "      <td>1.597942e-01</td>\n",
       "      <td>0.398355</td>\n",
       "      <td>0.215440</td>\n",
       "    </tr>\n",
       "    <tr>\n",
       "      <th>theta_3</th>\n",
       "      <td>4.440892e-16</td>\n",
       "      <td>0.814028</td>\n",
       "      <td>0.134004</td>\n",
       "    </tr>\n",
       "    <tr>\n",
       "      <th>theta_4</th>\n",
       "      <td>1.957998e-01</td>\n",
       "      <td>0.020067</td>\n",
       "      <td>0.034960</td>\n",
       "    </tr>\n",
       "    <tr>\n",
       "      <th>theta_5</th>\n",
       "      <td>2.108718e-01</td>\n",
       "      <td>0.161463</td>\n",
       "      <td>0.140240</td>\n",
       "    </tr>\n",
       "    <tr>\n",
       "      <th>theta_6</th>\n",
       "      <td>4.165927e-01</td>\n",
       "      <td>0.028979</td>\n",
       "      <td>0.389962</td>\n",
       "    </tr>\n",
       "    <tr>\n",
       "      <th>theta_7</th>\n",
       "      <td>3.561807e-02</td>\n",
       "      <td>0.865570</td>\n",
       "      <td>0.061519</td>\n",
       "    </tr>\n",
       "    <tr>\n",
       "      <th>theta_8</th>\n",
       "      <td>1.209561e-01</td>\n",
       "      <td>0.736039</td>\n",
       "      <td>0.096669</td>\n",
       "    </tr>\n",
       "    <tr>\n",
       "      <th>theta_9</th>\n",
       "      <td>7.682238e-02</td>\n",
       "      <td>0.890446</td>\n",
       "      <td>0.086170</td>\n",
       "    </tr>\n",
       "    <tr>\n",
       "      <th>theta_10</th>\n",
       "      <td>1.104139e-01</td>\n",
       "      <td>0.682468</td>\n",
       "      <td>0.052647</td>\n",
       "    </tr>\n",
       "    <tr>\n",
       "      <th>rho</th>\n",
       "      <td>3.956734e-02</td>\n",
       "      <td>0.008278</td>\n",
       "      <td>0.206075</td>\n",
       "    </tr>\n",
       "  </tbody>\n",
       "</table>\n",
       "</div>"
      ],
      "text/plain": [
       "              estimate   std err  true_val\n",
       "theta_1   5.997945e-02  0.855493  0.112290\n",
       "theta_2   1.597942e-01  0.398355  0.215440\n",
       "theta_3   4.440892e-16  0.814028  0.134004\n",
       "theta_4   1.957998e-01  0.020067  0.034960\n",
       "theta_5   2.108718e-01  0.161463  0.140240\n",
       "theta_6   4.165927e-01  0.028979  0.389962\n",
       "theta_7   3.561807e-02  0.865570  0.061519\n",
       "theta_8   1.209561e-01  0.736039  0.096669\n",
       "theta_9   7.682238e-02  0.890446  0.086170\n",
       "theta_10  1.104139e-01  0.682468  0.052647\n",
       "rho       3.956734e-02  0.008278  0.206075"
      ]
     },
     "metadata": {},
     "output_type": "display_data"
    }
   ],
   "source": [
    "# Approximate MLE using gradient descent\n",
    "start = tf.fill(P + 1, 0.5)\n",
    "\n",
    "optim_results = tfp.optimizer.bfgs_minimize(\n",
    "    censored_poisbinom_negloglike_and_grad, start, tolerance=1e-8\n",
    ")\n",
    "\n",
    "est_params = optim_results.position.numpy()\n",
    "est_serr = np.sqrt(np.diagonal(optim_results.inverse_hessian_estimate.numpy()))\n",
    "display(pd.DataFrame(\n",
    "    np.c_[est_params, est_serr, np.concatenate([true_transmission_rate, base_rate])],\n",
    "    columns=['estimate', 'std err', 'true_val'],\n",
    "    index=[f'theta_{i}' for i in range(1, P + 1)] + ['rho']\n",
    "))"
   ]
  },
  {
   "cell_type": "code",
   "execution_count": 12,
   "metadata": {},
   "outputs": [],
   "source": [
    "# Set model parameters\n",
    "nuts_samples = 20000\n",
    "nuts_burnin = 10000\n",
    "chains = 16\n",
    "init_step_size=.3\n",
    "init = [est_params[:P], est_params[-1]]"
   ]
  },
  {
   "cell_type": "code",
   "execution_count": 13,
   "metadata": {},
   "outputs": [
    {
     "name": "stdout",
     "output_type": "stream",
     "text": [
      "346.35 seconds elapsed\n"
     ]
    }
   ],
   "source": [
    "# Fit model\n",
    "@tf.function\n",
    "def nuts_sampler(init):\n",
    "    nuts_kernel = tfp.mcmc.NoUTurnSampler(\n",
    "        target_log_prob_fn=censored_poisbinom_loglike, \n",
    "        step_size=init_step_size,\n",
    "    )\n",
    "    adapt_nuts_kernel = tfp.mcmc.DualAveragingStepSizeAdaptation(\n",
    "        inner_kernel=nuts_kernel,\n",
    "        num_adaptation_steps=nuts_burnin,\n",
    "        step_size_getter_fn=lambda pkr: pkr.step_size,\n",
    "        log_accept_prob_getter_fn=lambda pkr: pkr.log_accept_ratio,\n",
    "        step_size_setter_fn=lambda pkr, new_step_size: pkr._replace(step_size=new_step_size)\n",
    "    )\n",
    "\n",
    "    samples_nuts_, stats_nuts_ = tfp.mcmc.sample_chain(\n",
    "        num_results=nuts_samples,\n",
    "        current_state=init,\n",
    "        kernel=adapt_nuts_kernel,\n",
    "        num_burnin_steps=100,\n",
    "        parallel_iterations=5,\n",
    "        trace_fn=None\n",
    "    )\n",
    "    return samples_nuts_, stats_nuts_\n",
    "\n",
    "start = time.time()\n",
    "samples_nuts, stats_nuts = nuts_sampler(init)\n",
    "print(f\"{time.time() - start:.02f} seconds elapsed\")"
   ]
  },
  {
   "cell_type": "code",
   "execution_count": 14,
   "metadata": {},
   "outputs": [
    {
     "data": {
      "text/html": [
       "<div>\n",
       "<style scoped>\n",
       "    .dataframe tbody tr th:only-of-type {\n",
       "        vertical-align: middle;\n",
       "    }\n",
       "\n",
       "    .dataframe tbody tr th {\n",
       "        vertical-align: top;\n",
       "    }\n",
       "\n",
       "    .dataframe thead th {\n",
       "        text-align: right;\n",
       "    }\n",
       "</style>\n",
       "<table border=\"1\" class=\"dataframe\">\n",
       "  <thead>\n",
       "    <tr style=\"text-align: right;\">\n",
       "      <th></th>\n",
       "      <th>estimate</th>\n",
       "      <th>std err</th>\n",
       "      <th>true_val</th>\n",
       "    </tr>\n",
       "  </thead>\n",
       "  <tbody>\n",
       "    <tr>\n",
       "      <th>theta_1</th>\n",
       "      <td>0.176921</td>\n",
       "      <td>0.027117</td>\n",
       "      <td>0.188545</td>\n",
       "    </tr>\n",
       "    <tr>\n",
       "      <th>theta_2</th>\n",
       "      <td>0.094382</td>\n",
       "      <td>0.022881</td>\n",
       "      <td>0.077791</td>\n",
       "    </tr>\n",
       "    <tr>\n",
       "      <th>theta_3</th>\n",
       "      <td>0.067350</td>\n",
       "      <td>0.027811</td>\n",
       "      <td>0.067408</td>\n",
       "    </tr>\n",
       "    <tr>\n",
       "      <th>theta_4</th>\n",
       "      <td>0.030377</td>\n",
       "      <td>0.018024</td>\n",
       "      <td>0.052992</td>\n",
       "    </tr>\n",
       "    <tr>\n",
       "      <th>theta_5</th>\n",
       "      <td>0.404156</td>\n",
       "      <td>0.016261</td>\n",
       "      <td>0.377972</td>\n",
       "    </tr>\n",
       "    <tr>\n",
       "      <th>theta_6</th>\n",
       "      <td>0.217100</td>\n",
       "      <td>0.028435</td>\n",
       "      <td>0.240681</td>\n",
       "    </tr>\n",
       "    <tr>\n",
       "      <th>theta_7</th>\n",
       "      <td>0.121046</td>\n",
       "      <td>0.017849</td>\n",
       "      <td>0.139686</td>\n",
       "    </tr>\n",
       "    <tr>\n",
       "      <th>theta_8</th>\n",
       "      <td>0.042036</td>\n",
       "      <td>0.017117</td>\n",
       "      <td>0.050818</td>\n",
       "    </tr>\n",
       "    <tr>\n",
       "      <th>theta_9</th>\n",
       "      <td>0.012239</td>\n",
       "      <td>0.011494</td>\n",
       "      <td>0.033721</td>\n",
       "    </tr>\n",
       "    <tr>\n",
       "      <th>theta_10</th>\n",
       "      <td>0.180073</td>\n",
       "      <td>0.023018</td>\n",
       "      <td>0.181393</td>\n",
       "    </tr>\n",
       "    <tr>\n",
       "      <th>rho</th>\n",
       "      <td>0.032797</td>\n",
       "      <td>0.001098</td>\n",
       "      <td>0.283537</td>\n",
       "    </tr>\n",
       "  </tbody>\n",
       "</table>\n",
       "</div>"
      ],
      "text/plain": [
       "          estimate   std err  true_val\n",
       "theta_1   0.176921  0.027117  0.188545\n",
       "theta_2   0.094382  0.022881  0.077791\n",
       "theta_3   0.067350  0.027811  0.067408\n",
       "theta_4   0.030377  0.018024  0.052992\n",
       "theta_5   0.404156  0.016261  0.377972\n",
       "theta_6   0.217100  0.028435  0.240681\n",
       "theta_7   0.121046  0.017849  0.139686\n",
       "theta_8   0.042036  0.017117  0.050818\n",
       "theta_9   0.012239  0.011494  0.033721\n",
       "theta_10  0.180073  0.023018  0.181393\n",
       "rho       0.032797  0.001098  0.283537"
      ]
     },
     "metadata": {},
     "output_type": "display_data"
    }
   ],
   "source": [
    "# View results\n",
    "trace_rho = samples_nuts[1].numpy()\n",
    "trace_theta = samples_nuts[0].numpy()\n",
    "est_nuts = np.r_[trace_theta.mean(axis=0), trace_rho.mean()]\n",
    "std_nuts = np.r_[trace_theta.std(axis=0), trace_rho.std()]\n",
    "# assemble and print\n",
    "display(pd.DataFrame(\n",
    "    np.c_[est_nuts, std_nuts, np.concatenate([true_transmission_rate, base_rate])],\n",
    "    columns=['estimate', 'std err', 'true_val'],\n",
    "    index=[f'theta_{i}' for i in range(1, P + 1)] + ['rho']\n",
    "))"
   ]
  }
 ],
 "metadata": {
  "kernelspec": {
   "display_name": "TensorFlow (GPU)",
   "language": "python",
   "name": "tf-gpu"
  },
  "language_info": {
   "codemirror_mode": {
    "name": "ipython",
    "version": 3
   },
   "file_extension": ".py",
   "mimetype": "text/x-python",
   "name": "python",
   "nbconvert_exporter": "python",
   "pygments_lexer": "ipython3",
   "version": "3.8.5"
  }
 },
 "nbformat": 4,
 "nbformat_minor": 4
}
