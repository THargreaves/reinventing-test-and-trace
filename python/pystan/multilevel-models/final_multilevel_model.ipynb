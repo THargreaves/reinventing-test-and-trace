{
 "cells": [
  {
   "cell_type": "code",
   "execution_count": null,
   "metadata": {},
   "outputs": [],
   "source": [
    "import time\n",
    "import arviz\n",
    "import numpy as np\n",
    "import pandas as pd\n",
    "import scipy.special as sp\n",
    "import scipy.stats as sts\n",
    "import pystan"
   ]
  },
  {
   "cell_type": "code",
   "execution_count": null,
   "metadata": {},
   "outputs": [],
   "source": [
    "# Parameters\n",
    "P = [3, 5, 1, 4, 1, 2, 1, 1, 4]\n",
    "N = 10 ** 3\n",
    "ITER = 1000\n",
    "WARMUP = 200\n",
    "CHAINS = 8\n",
    "SEED = 1729"
   ]
  },
  {
   "cell_type": "code",
   "execution_count": null,
   "metadata": {},
   "outputs": [],
   "source": [
    "#### GROUND TRUTH ####\n",
    "np.random.seed(SEED)\n",
    "\n",
    "# Mask-wearing\n",
    "mask_wearer = np.random.binomial(1, 0.5, size=(N,))\n",
    "true_mask_impact = np.random.lognormal(-1, 0.5, len(P))\n",
    "true_mask_impact_rep = np.repeat(true_mask_impact, P)\n",
    "\n",
    "# Test use\n",
    "t_i = np.random.beta(8, 2, 1)  # Prob(tested | infected)\n",
    "t_not_i = np.random.beta(2, 20, 1)  # Prob(tested | not-infected)\n",
    "true_gamma = np.array([t_i, t_not_i])\n",
    "\n",
    "# Test accuracy\n",
    "test_sensitivity = np.random.beta(4, 3, 1)  # True positive rate\n",
    "test_specificity = np.random.beta(50, 2, 1)  # True negative rate\n",
    "true_lambda = np.array([test_sensitivity, test_specificity])\n",
    "\n",
    "# Transmission rates\n",
    "true_transmission_rate_mu = np.random.beta(2, 10, len(P))\n",
    "true_transmission_rate_std = np.sqrt(sts.invgamma.rvs(a=100, size=len(P)))\n",
    "true_transmission_rate = np.concatenate([\n",
    "    sp.expit(sp.logit(mu) + np.random.normal(0, std, p))\n",
    "    for p, mu, std\n",
    "    in zip(P, true_transmission_rate_mu, true_transmission_rate_std)\n",
    "])\n",
    "base_rate = np.random.beta(2, 10, 1)\n",
    "\n",
    "# Occurrence rates\n",
    "true_occurrence_rate_mu = np.random.beta(2, 10, len(P))\n",
    "true_occurrence_rate_std = np.sqrt(sts.invgamma.rvs(a=50, size=len(P)))\n",
    "true_occurrence_rate = np.concatenate([\n",
    "    sp.expit(sp.logit(mu) + np.random.normal(0, std, p))\n",
    "    for p, mu, std\n",
    "    in zip(P, true_occurrence_rate_mu, true_occurrence_rate_std)\n",
    "])\n",
    "\n",
    "# Set antigen test mean and std. error for TP and TN rates (for strong priors)\n",
    "\n",
    "# True positive\n",
    "mean_tp = 0.73000\n",
    "se_tp = 0.04133\n",
    "\n",
    "# True negative\n",
    "mean_tn = 0.99680\n",
    "se_tn = 0.00066\n",
    "\n",
    "mean_rates = np.array([mean_tp, mean_tn])\n",
    "se_rates = np.array([se_tp, se_tn])"
   ]
  },
  {
   "cell_type": "code",
   "execution_count": null,
   "metadata": {},
   "outputs": [],
   "source": [
    "#### SIMULATE DATA ####\n",
    "data = {}\n",
    "for p in range(sum(P)):\n",
    "    occurrence = np.random.binomial(1, true_occurrence_rate[p], N)\n",
    "    # Impact of mask-wearing\n",
    "    transmission_prob = sp.expit(sp.logit(true_transmission_rate[p]) +\n",
    "                                 np.log(true_mask_impact_rep[p]) * mask_wearer)\n",
    "    transmission = occurrence * np.random.binomial(1, transmission_prob)\n",
    "    data[f'O{p+1}'] = occurrence\n",
    "    data[f'T{p+1}'] = transmission\n",
    "\n",
    "data['T0'] = np.random.binomial(1, base_rate, N)\n",
    "X = pd.DataFrame(data)\n",
    "z = X.loc[:, X.columns.str.startswith('T')].sum(axis=1)\n",
    "y = (z > 0).astype(int)\n",
    "\n",
    "# Resampling for test use\n",
    "tested = y*np.random.binomial(1, true_gamma[0], N) + \\\n",
    "         (1-y)*np.random.binomial(1, true_gamma[1], N)\n",
    "y = y[tested == 1]\n",
    "X_survey = X[tested == 0].reset_index()\n",
    "m_survey = mask_wearer[tested == 0]\n",
    "X = X[tested == 1].reset_index()\n",
    "m = mask_wearer[tested == 1]\n",
    "X = X.loc[:, X.columns.str.startswith('O')]\n",
    "X_survey = X_survey.loc[:, X_survey.columns.str.startswith('O')]\n",
    "N = X.shape[0]\n",
    "NA = X_survey.shape[0]\n",
    "\n",
    "# Introduce false positives and negatives\n",
    "y = y * np.random.binomial(1, true_lambda[0], N) + \\\n",
    "    (1-y) * np.random.binomial(1, (1-true_lambda[1]), N)\n",
    "\n",
    "# Record classes\n",
    "c = np.array([i + 1 for i, p in enumerate(P) for __ in range(p)])"
   ]
  },
  {
   "cell_type": "code",
   "execution_count": null,
   "metadata": {},
   "outputs": [],
   "source": [
    "#### SAMPLING ####\n",
    "# Compile model\n",
    "sm = pystan.StanModel('full_mod.stan')\n",
    "\n",
    "# Define model data\n",
    "model_data = {\n",
    "    'N': N, 'NA': NA, 'P': sum(P), 'K': len(P),\n",
    "    'X': X.to_numpy(), 'y': y.to_numpy(), 'c': c, 'm': m, 'm_survey': m_survey,\n",
    "    'survey': X_survey.to_numpy(), 'mean_lambda': mean_rates, 'se_lambda': se_rates,\n",
    "}"
   ]
  },
  {
   "cell_type": "code",
   "execution_count": null,
   "metadata": {},
   "outputs": [],
   "source": [
    "# Fit model\n",
    "fit = sm.sampling(data=model_data, iter=ITER, warmup=WARMUP, chains=CHAINS, verbose=True)"
   ]
  },
  {
   "cell_type": "code",
   "execution_count": null,
   "metadata": {},
   "outputs": [],
   "source": [
    "# Evaluate fit\n",
    "arviz.plot_trace(fit);"
   ]
  }
 ],
 "metadata": {
  "kernelspec": {
   "display_name": "PyStan",
   "language": "python",
   "name": "pystan"
  },
  "language_info": {
   "codemirror_mode": {
    "name": "ipython",
    "version": 3
   },
   "file_extension": ".py",
   "mimetype": "text/x-python",
   "name": "python",
   "nbconvert_exporter": "python",
   "pygments_lexer": "ipython3",
   "version": "3.9.2"
  }
 },
 "nbformat": 4,
 "nbformat_minor": 4
}
