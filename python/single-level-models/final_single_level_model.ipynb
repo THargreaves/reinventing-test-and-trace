{
 "cells": [
  {
   "cell_type": "markdown",
   "metadata": {},
   "source": [
    "# Single-level model"
   ]
  },
  {
   "cell_type": "markdown",
   "metadata": {},
   "source": [
    "In this notebook, we relax both the the random sampling assumption and the perfect testing assumption to create the final single-level model.\n",
    "\n",
    "As in the Imperfect Testing model, test accuracy parameter priors are calibrated with data from the [Joint PHE Porton Down & University of Oxford SARS-CoV-2 test development and validation cell](https://www.ox.ac.uk/sites/files/oxford/media_wysiwyg/UK%20evaluation_PHE%20Porton%20Down%20%20University%20of%20Oxford_final.pdf). "
   ]
  },
  {
   "cell_type": "code",
   "execution_count": 1,
   "metadata": {},
   "outputs": [],
   "source": [
    "import time\n",
    "import arviz\n",
    "import numpy as np\n",
    "import pandas as pd\n",
    "import stan\n",
    "import nest_asyncio\n",
    "nest_asyncio.apply()"
   ]
  },
  {
   "cell_type": "code",
   "execution_count": 2,
   "metadata": {},
   "outputs": [],
   "source": [
    "# Parameters\n",
    "P = 10\n",
    "N = 3*(10 ** 4)\n",
    "SEED = 1729"
   ]
  },
  {
   "cell_type": "code",
   "execution_count": 3,
   "metadata": {},
   "outputs": [],
   "source": [
    "# Ground truth\n",
    "np.random.seed(SEED)\n",
    "true_transmission_rate = np.random.beta(2, 10, P)\n",
    "true_occurrence_rate = np.random.beta(2, 10, P)\n",
    "base_rate = np.random.beta(2, 10, 1)\n",
    "\n",
    "t_i = np.random.beta(8, 2, 1)  # Prob(tested | infected)\n",
    "t_not_i = np.random.beta(2, 20, 1)  # Prob(tested | not-infected)\n",
    "true_gamma = np.array([t_i, t_not_i])\n",
    "\n",
    "test_sensitivity = np.random.beta(4, 3, 1)  # True positive rate\n",
    "test_specificity = np.random.beta(50, 2, 1)  # True negative rate\n",
    "true_lambda = np.array([test_sensitivity, test_specificity])"
   ]
  },
  {
   "cell_type": "code",
   "execution_count": 4,
   "metadata": {},
   "outputs": [
    {
     "name": "stdout",
     "output_type": "stream",
     "text": [
      "<class 'pandas.core.frame.DataFrame'>\n",
      "RangeIndex: 8193 entries, 0 to 8192\n",
      "Data columns (total 10 columns):\n",
      " #   Column  Non-Null Count  Dtype\n",
      "---  ------  --------------  -----\n",
      " 0   O1      8193 non-null   int64\n",
      " 1   O2      8193 non-null   int64\n",
      " 2   O3      8193 non-null   int64\n",
      " 3   O4      8193 non-null   int64\n",
      " 4   O5      8193 non-null   int64\n",
      " 5   O6      8193 non-null   int64\n",
      " 6   O7      8193 non-null   int64\n",
      " 7   O8      8193 non-null   int64\n",
      " 8   O9      8193 non-null   int64\n",
      " 9   O10     8193 non-null   int64\n",
      "dtypes: int64(10)\n",
      "memory usage: 640.2 KB\n",
      "<class 'pandas.core.frame.DataFrame'>\n",
      "RangeIndex: 21807 entries, 0 to 21806\n",
      "Data columns (total 10 columns):\n",
      " #   Column  Non-Null Count  Dtype\n",
      "---  ------  --------------  -----\n",
      " 0   O1      21807 non-null  int64\n",
      " 1   O2      21807 non-null  int64\n",
      " 2   O3      21807 non-null  int64\n",
      " 3   O4      21807 non-null  int64\n",
      " 4   O5      21807 non-null  int64\n",
      " 5   O6      21807 non-null  int64\n",
      " 6   O7      21807 non-null  int64\n",
      " 7   O8      21807 non-null  int64\n",
      " 8   O9      21807 non-null  int64\n",
      " 9   O10     21807 non-null  int64\n",
      "dtypes: int64(10)\n",
      "memory usage: 1.7 MB\n"
     ]
    }
   ],
   "source": [
    "# Simulate data\n",
    "data = {}\n",
    "for p in range(P):\n",
    "    occurrence = np.random.binomial(1, true_occurrence_rate[p], N)\n",
    "    transmission = occurrence * np.random.binomial(1, true_transmission_rate[p], N)\n",
    "    data[f'O{p+1}'] = occurrence\n",
    "    data[f'T{p+1}'] = transmission\n",
    "\n",
    "data['T0'] = np.random.binomial(1, base_rate, N)\n",
    "X = pd.DataFrame(data)\n",
    "z = X.loc[:, X.columns.str.startswith('T')].sum(axis=1)\n",
    "y = (z > 0).astype(int)\n",
    "\n",
    "# Resampling using testing probabilites conditional on infected\n",
    "tested = y*np.random.binomial(1, true_gamma[0], N) + (1-y)*np.random.binomial(1, true_gamma[1], N)\n",
    "y = y[tested == 1]\n",
    "X_survey = X[tested == 0].reset_index()\n",
    "X = X[tested == 1].reset_index()\n",
    "\n",
    "N = X.shape[0]\n",
    "NA = X_survey.shape[0]\n",
    "\n",
    "# Introducing false positives and negatives\n",
    "y = y*np.random.binomial(1, true_lambda[0], N) + (1-y)*np.random.binomial(1, (1-true_lambda[1]), N)\n",
    "\n",
    "X = X.loc[:, X.columns.str.startswith('O')]\n",
    "X_survey = X_survey.loc[:, X_survey.columns.str.startswith('O')]\n",
    "X.info()\n",
    "X_survey.info()"
   ]
  },
  {
   "cell_type": "code",
   "execution_count": 5,
   "metadata": {},
   "outputs": [
    {
     "name": "stdout",
     "output_type": "stream",
     "text": [
      "Shape parameters for test accuracy priors:\n",
      "Alphas:  [83.50230278926166, 7298.251978696008]\n",
      "Betas:  [30.88441336041184, 23.429380348943674]\n",
      "[[  83.50230279   30.88441336]\n",
      " [7298.2519787    23.42938035]]\n"
     ]
    }
   ],
   "source": [
    "# Set antigen test mean and std. error for TP and TN rates (for strong priors)\n",
    "\n",
    "# True positive\n",
    "mean_tp = 0.73000\n",
    "se_tp = 0.04133\n",
    "\n",
    "# True negative\n",
    "mean_tn = 0.99680\n",
    "se_tn = 0.00066\n",
    "\n",
    "mean_rates = [mean_tp, mean_tn]\n",
    "se_rates = [se_tp, se_tn]\n",
    "alphas = []\n",
    "betas = []\n",
    "\n",
    "for i in range(2):\n",
    "    alphas.append((((1 - mean_rates[i])/se_rates[i]**2)-(1/mean_rates[i])) * (mean_rates[i]**2))\n",
    "    betas.append(alphas[i]*((1/mean_rates[i])-1))\n",
    "    \n",
    "print('Shape parameters for test accuracy priors:')    \n",
    "print('Alphas: ', alphas)\n",
    "print('Betas: ', betas)\n",
    "\n",
    "prior_params = np.array([alphas, betas]).T\n",
    "print(prior_params)"
   ]
  },
  {
   "cell_type": "code",
   "execution_count": 6,
   "metadata": {},
   "outputs": [
    {
     "ename": "SyntaxError",
     "evalue": "invalid syntax (<ipython-input-6-c86a3a09ab69>, line 74)",
     "output_type": "error",
     "traceback": [
      "\u001b[0;36m  File \u001b[0;32m\"<ipython-input-6-c86a3a09ab69>\"\u001b[0;36m, line \u001b[0;32m74\u001b[0m\n\u001b[0;31m    \"\"\")\u001b[0m\n\u001b[0m        \n^\u001b[0m\n\u001b[0;31mSyntaxError\u001b[0m\u001b[0;31m:\u001b[0m invalid syntax\n"
     ]
    }
   ],
   "source": [
    "model_code = \"\"\"\n",
    "data {\n",
    "  int<lower=0> N;                            // number of test observations\n",
    "  int<lower=0> NA;                           // number of survey observations\n",
    "  int<lower=0> P;                            // number of places\n",
    "  int<lower=0, upper=1> X[N,P];              // activity occurrences of tested individuals\n",
    "  int<lower=0, upper=1> y[N];                // transmission (tested positive)\n",
    "  int<lower=0, upper=1> survey[NA,P];        // activity occurrences of surveyed individuals\n",
    "  real lambda_prior_params[2,2];            // Shape parameters for TP/TN test rate priors\n",
    "}\n",
    "parameters {\n",
    "  real<lower=0, upper=1> theta[P];           // transmission rates\n",
    "  real<lower=0, upper=1> rho;                // underlying risk\n",
    "  real<lower=0, upper=1> gamma[2];           // Testing rates, given infected status [T|I , T|!I]\n",
    "  real<lower=0, upper=1> lambda[2];          // True positive and true negative rates of tests [TP,TN]\n",
    "}\n",
    "model {\n",
    "  // Precomputation\n",
    "  real log1m_theta[P];\n",
    "  real log1m_rho;\n",
    "  real log_gamma[2];\n",
    "  real log1m_gamma[2];\n",
    "  real log_lambda[2];\n",
    "  real log1m_lambda[2];\n",
    "  \n",
    "  for (p in 1:P) {\n",
    "    log1m_theta[p] = log1m(theta[p]);\n",
    "  }\n",
    "  for(i in 1:2){\n",
    "    log_gamma[i] = log(gamma[i]);\n",
    "    log1m_gamma[i] = log1m(gamma[i]);\n",
    "    log_lambda[i] = log(lambda[i]);\n",
    "    log1m_lambda[i] = log1m(lambda[i]);\n",
    "  }\n",
    "  \n",
    "  log1m_rho = log1m(rho);\n",
    "  \n",
    "  // Priors\n",
    "  theta ~ uniform(0, 1);\n",
    "  rho ~ uniform(0, 1);\n",
    "  gamma ~ uniform(0, 1);\n",
    "  lambda[1] ~ beta(lambda_prior_params[1,1],lambda_prior_params[1,2]);\n",
    "  lambda[2] ~ beta(lambda_prior_params[2,1],lambda_prior_params[2,2]);\n",
    "\n",
    "  // Likelihood\n",
    "  for (n in 1:NA) {\n",
    "    real s = 0.0;\n",
    "    for (p in 1:P) {\n",
    "      if (survey[n,p] == 1) {\n",
    "        s += log1m_theta[p];\n",
    "      }\n",
    "    }\n",
    "    s += log1m_rho;\n",
    "    target += log_sum_exp((log1m_exp(s)+log1m_gamma[1]), (s+log1m_gamma[2]));\n",
    "  }\n",
    "  \n",
    "  for (n in 1:N) {\n",
    "    real s = 0.0;\n",
    "    for (p in 1:P) {\n",
    "      if (X[n,p] == 1) {\n",
    "        s += log1m_theta[p];\n",
    "      }\n",
    "    }\n",
    "    s += log1m_rho;\n",
    "    \n",
    "    if (y[n] == 1) {\n",
    "      target += log_sum_exp((log1m_exp(s) + log_gamma[1] + log_lambda[1]), (s + log_gamma[2] + log1m_lambda[2]));\n",
    "    } \n",
    "    else {\n",
    "      target += log_sum_exp((s + log_gamma[2] + log_lambda[2]), (log1m_exp(s) + log_gamma[1] + log1m_lambda[1]));\n",
    "    }\n",
    "  }\n",
    "}\n",
    "\"\"\" "
   ]
  },
  {
   "cell_type": "code",
   "execution_count": null,
   "metadata": {},
   "outputs": [],
   "source": [
    "# Build model\n",
    "model_data = {'N': N, 'NA': NA, 'P': P, 'X': X.to_numpy(),\n",
    "              'survey': X_survey.to_numpy(), 'y': y.to_numpy(), \n",
    "              'mean_lambda':mean_rates, 'se_lambda':se_rates }\n",
    "posterior = stan.build(model_code, data=model_data, random_seed=1)"
   ]
  },
  {
   "cell_type": "code",
   "execution_count": null,
   "metadata": {},
   "outputs": [],
   "source": [
    "# Set NUTS parameters\n",
    "nuts_samples = 1000\n",
    "nuts_burnin = 500\n",
    "nuts_chains = 16\n",
    "\n",
    "# Posterior sampling\n",
    "start = time.time()\n",
    "fit = posterior.sample(num_samples=nuts_samples, num_warmup=nuts_burnin, num_chains=nuts_chains)\n",
    "print(f\"{time.time() - start:.02f} seconds elapsed\")"
   ]
  },
  {
   "cell_type": "code",
   "execution_count": null,
   "metadata": {},
   "outputs": [],
   "source": [
    "# Evaluate fit with test and trace resample\n",
    "arviz.plot_trace(fit, figsize=(8, 6));"
   ]
  },
  {
   "cell_type": "code",
   "execution_count": null,
   "metadata": {},
   "outputs": [],
   "source": [
    "fit = fit.to_frame()\n",
    "print(\"Inference on fitted model:\")\n",
    "fit.describe().T"
   ]
  },
  {
   "cell_type": "code",
   "execution_count": null,
   "metadata": {},
   "outputs": [],
   "source": [
    "print('Ground truth:')\n",
    "print('Setting-specific transmission rates: ', true_transmission_rate)\n",
    "print('Base rate: ', base_rate)\n",
    "print('Testing rates: ', true_gamma)\n",
    "print('True positive and negative rates: ', true_lambda)"
   ]
  }
 ],
 "metadata": {
  "kernelspec": {
   "display_name": "Python 3",
   "language": "python",
   "name": "python3"
  },
  "language_info": {
   "codemirror_mode": {
    "name": "ipython",
    "version": 3
   },
   "file_extension": ".py",
   "mimetype": "text/x-python",
   "name": "python",
   "nbconvert_exporter": "python",
   "pygments_lexer": "ipython3",
   "version": "3.7.10"
  }
 },
 "nbformat": 4,
 "nbformat_minor": 4
}
