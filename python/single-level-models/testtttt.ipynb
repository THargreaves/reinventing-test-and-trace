{
 "cells": [
  {
   "cell_type": "markdown",
   "metadata": {},
   "source": [
    "# Test and Trace resampling"
   ]
  },
  {
   "cell_type": "markdown",
   "metadata": {},
   "source": [
    "In this notebook, we relax the random sampling assumption by introducing two additional model parameters:\n",
    "\n",
    "- The testing rate for infected individuals\n",
    "- The testing rate for non-infected individuals\n",
    "\n",
    "To estimate these within our model, we slightly adapt our framework to incorporate a random survey that runs parallel to the Test and Trace scheme. This survey records individual attendances in the studied settings but does not record antigen test results. Thus, our model now is now fitted with data from the survey sample and data from the Test and Trace sample."
   ]
  },
  {
   "cell_type": "code",
   "execution_count": 1,
   "metadata": {},
   "outputs": [],
   "source": [
    "import time\n",
    "import arviz\n",
    "import numpy as np\n",
    "import pandas as pd\n",
    "import stan\n",
    "import nest_asyncio\n",
    "nest_asyncio.apply()"
   ]
  },
  {
   "cell_type": "code",
   "execution_count": 2,
   "metadata": {},
   "outputs": [],
   "source": [
    "# Parameters\n",
    "P = 10\n",
    "S = 325949 # Total population\n",
    "NA = 4*(10 ** 4) # Number of surveys\n",
    "SEED = 1729"
   ]
  },
  {
   "cell_type": "code",
   "execution_count": 3,
   "metadata": {},
   "outputs": [],
   "source": [
    "# Ground truth\n",
    "np.random.seed(SEED)\n",
    "true_transmission_rate = np.random.beta(2, 10, P)\n",
    "true_occurrence_rate = np.random.beta(2, 10, P)\n",
    "base_rate = np.random.beta(2, 10, 1)\n",
    "\n",
    "t_i = np.random.beta(8, 2, 1)  # Prob(tested | infected)\n",
    "t_not_i = np.random.beta(2, 20, 1)  # Prob(tested | not-infected)\n",
    "true_gamma = np.array([t_i, t_not_i])"
   ]
  },
  {
   "cell_type": "code",
   "execution_count": 8,
   "metadata": {},
   "outputs": [
    {
     "name": "stdout",
     "output_type": "stream",
     "text": [
      "<class 'pandas.core.frame.DataFrame'>\n",
      "RangeIndex: 88505 entries, 0 to 88504\n",
      "Data columns (total 10 columns):\n",
      " #   Column  Non-Null Count  Dtype\n",
      "---  ------  --------------  -----\n",
      " 0   O1      88505 non-null  int64\n",
      " 1   O2      88505 non-null  int64\n",
      " 2   O3      88505 non-null  int64\n",
      " 3   O4      88505 non-null  int64\n",
      " 4   O5      88505 non-null  int64\n",
      " 5   O6      88505 non-null  int64\n",
      " 6   O7      88505 non-null  int64\n",
      " 7   O8      88505 non-null  int64\n",
      " 8   O9      88505 non-null  int64\n",
      " 9   O10     88505 non-null  int64\n",
      "dtypes: int64(10)\n",
      "memory usage: 6.8 MB\n",
      "<class 'pandas.core.frame.DataFrame'>\n",
      "RangeIndex: 40000 entries, 0 to 39999\n",
      "Data columns (total 10 columns):\n",
      " #   Column  Non-Null Count  Dtype\n",
      "---  ------  --------------  -----\n",
      " 0   O1      40000 non-null  int64\n",
      " 1   O2      40000 non-null  int64\n",
      " 2   O3      40000 non-null  int64\n",
      " 3   O4      40000 non-null  int64\n",
      " 4   O5      40000 non-null  int64\n",
      " 5   O6      40000 non-null  int64\n",
      " 6   O7      40000 non-null  int64\n",
      " 7   O8      40000 non-null  int64\n",
      " 8   O9      40000 non-null  int64\n",
      " 9   O10     40000 non-null  int64\n",
      "dtypes: int64(10)\n",
      "memory usage: 3.1 MB\n"
     ]
    }
   ],
   "source": [
    "# Simulate data\n",
    "data = {}\n",
    "for p in range(P):\n",
    "    occurrence = np.random.binomial(1, true_occurrence_rate[p], S)\n",
    "    transmission = occurrence * np.random.binomial(1, true_transmission_rate[p], S)\n",
    "    data[f'O{p+1}'] = occurrence\n",
    "    data[f'T{p+1}'] = transmission\n",
    "\n",
    "data['T0'] = np.random.binomial(1, base_rate, S)\n",
    "X = pd.DataFrame(data)\n",
    "z = X.loc[:, X.columns.str.startswith('T')].sum(axis=1)\n",
    "y = (z > 0).astype(int)\n",
    "\n",
    "# Resampling using testing probabilites conditional on infected\n",
    "tested = y*np.random.binomial(1, true_gamma[0], S) + (1-y)*np.random.binomial(1, true_gamma[1], S)\n",
    "y = y[tested == 1]\n",
    "\n",
    "if NA >= (S - y.shape[0]):\n",
    "    NA = (S - y.shape[0])\n",
    "    \n",
    "X_survey = X[tested == 0].sample(NA).reset_index()\n",
    "X = X[tested == 1].reset_index()\n",
    "\n",
    "N = X.shape[0]\n",
    "\n",
    "X = X.loc[:, X.columns.str.startswith('O')]\n",
    "X_survey = X_survey.loc[:, X_survey.columns.str.startswith('O')]\n",
    "X.info()\n",
    "X_survey.info()"
   ]
  },
  {
   "cell_type": "code",
   "execution_count": 5,
   "metadata": {},
   "outputs": [],
   "source": [
    "# Stan model code\n",
    "model_code = \"\"\"\n",
    "data {\n",
    "  int<lower=0> N;                            // number of test observations\n",
    "  int<lower=0> NA;                           // number of survey observations\n",
    "  int<lower=0> P;                            // number of places\n",
    "  int<lower=0, upper=1> X[N,P];              // activity occurrences of tested individuals\n",
    "  int<lower=0, upper=1> y[N];                // transmission (tested positive)\n",
    "  int<lower=0, upper=1> survey[NA,P];        // activity occurrences of surveyed individuals\n",
    "}\n",
    "parameters {\n",
    "  real<lower=0, upper=1> theta[P];           // transmission rates\n",
    "  real<lower=0, upper=1> rho;                // underlying risk\n",
    "  real<lower=0, upper=1> gamma[2];           // testing rates, given infected status [Pr(T|I) , Pr(T|!I)]\n",
    "}\n",
    "transformed parameters {\n",
    "  // Precomputation\n",
    "  real log1m_theta[P];\n",
    "  real log1m_rho;\n",
    "  real log_gamma[2];\n",
    "  real log1m_gamma[2];\n",
    "  \n",
    "  for (p in 1:P) {\n",
    "    log1m_theta[p] = log1m(theta[p]);\n",
    "  }\n",
    "  for(i in 1:2){\n",
    "    log_gamma[i] = log(gamma[i]);\n",
    "    log1m_gamma[i] = log1m(gamma[i]);\n",
    "  }\n",
    "  log1m_rho = log1m(rho);\n",
    "}\n",
    "model {\n",
    "  // Priors\n",
    "  theta ~ uniform(0, 1);\n",
    "  rho ~ uniform(0, 1);\n",
    "  gamma ~ uniform(0,1);\n",
    "\n",
    "  // Likelihood\n",
    "  for (n in 1:NA) {\n",
    "    real s = 0.0;\n",
    "    for (p in 1:P) {\n",
    "      if (survey[n,p] == 1) {\n",
    "        s += log1m_theta[p];\n",
    "      }\n",
    "    }\n",
    "    s += log1m_rho;\n",
    "    target += log_sum_exp((log1m_exp(s)+log1m_gamma[1]), (s+log1m_gamma[2]));\n",
    "  }\n",
    "  \n",
    "  for (n in 1:N) {\n",
    "    real s = 0.0;\n",
    "    for (p in 1:P) {\n",
    "      if (X[n,p] == 1) {\n",
    "        s += log1m_theta[p];\n",
    "      }\n",
    "    }\n",
    "    s += log1m_rho;\n",
    "    \n",
    "    if (y[n] == 1) {\n",
    "      target += (log1m_exp(s)+log_gamma[1]);\n",
    "    } \n",
    "    else {\n",
    "      target += (s+log_gamma[2]);\n",
    "    }\n",
    "  }\n",
    "}\n",
    "\"\"\" "
   ]
  },
  {
   "cell_type": "code",
   "execution_count": 6,
   "metadata": {},
   "outputs": [
    {
     "name": "stderr",
     "output_type": "stream",
     "text": [
      "Building... This may take some time.\n"
     ]
    }
   ],
   "source": [
    "# Build model\n",
    "model_data = {'N': N, 'NA': NA, 'P': P, 'X': X.to_numpy(), \n",
    "                         'y': y.to_numpy(), 'survey': X_survey.to_numpy()}\n",
    "posterior = stan.build(model_code, data=model_data, random_seed=1)"
   ]
  },
  {
   "cell_type": "code",
   "execution_count": 7,
   "metadata": {},
   "outputs": [
    {
     "ename": "AttributeError",
     "evalue": "'NoneType' object has no attribute 'sample'",
     "output_type": "error",
     "traceback": [
      "\u001b[0;31m---------------------------------------------------------------------------\u001b[0m",
      "\u001b[0;31mAttributeError\u001b[0m                            Traceback (most recent call last)",
      "\u001b[0;32m<ipython-input-7-462dc4ddf882>\u001b[0m in \u001b[0;36m<module>\u001b[0;34m\u001b[0m\n\u001b[1;32m      6\u001b[0m \u001b[0;31m# Posterior sampling\u001b[0m\u001b[0;34m\u001b[0m\u001b[0;34m\u001b[0m\u001b[0;34m\u001b[0m\u001b[0m\n\u001b[1;32m      7\u001b[0m \u001b[0mstart\u001b[0m \u001b[0;34m=\u001b[0m \u001b[0mtime\u001b[0m\u001b[0;34m.\u001b[0m\u001b[0mtime\u001b[0m\u001b[0;34m(\u001b[0m\u001b[0;34m)\u001b[0m\u001b[0;34m\u001b[0m\u001b[0;34m\u001b[0m\u001b[0m\n\u001b[0;32m----> 8\u001b[0;31m \u001b[0mfit\u001b[0m \u001b[0;34m=\u001b[0m \u001b[0mposterior\u001b[0m\u001b[0;34m.\u001b[0m\u001b[0msample\u001b[0m\u001b[0;34m(\u001b[0m\u001b[0mnum_samples\u001b[0m\u001b[0;34m=\u001b[0m\u001b[0mnuts_samples\u001b[0m\u001b[0;34m,\u001b[0m \u001b[0mnum_warmup\u001b[0m\u001b[0;34m=\u001b[0m\u001b[0mnuts_burnin\u001b[0m\u001b[0;34m,\u001b[0m \u001b[0mnum_chains\u001b[0m\u001b[0;34m=\u001b[0m\u001b[0mnuts_chains\u001b[0m\u001b[0;34m)\u001b[0m\u001b[0;34m\u001b[0m\u001b[0;34m\u001b[0m\u001b[0m\n\u001b[0m\u001b[1;32m      9\u001b[0m \u001b[0mprint\u001b[0m\u001b[0;34m(\u001b[0m\u001b[0;34mf\"{time.time() - start:.02f} seconds elapsed\"\u001b[0m\u001b[0;34m)\u001b[0m\u001b[0;34m\u001b[0m\u001b[0;34m\u001b[0m\u001b[0m\n",
      "\u001b[0;31mAttributeError\u001b[0m: 'NoneType' object has no attribute 'sample'"
     ]
    }
   ],
   "source": [
    "# Set NUTS parameters\n",
    "nuts_samples = 1000\n",
    "nuts_burnin = 500\n",
    "nuts_chains = 16\n",
    "\n",
    "# Posterior sampling\n",
    "start = time.time()\n",
    "fit = posterior.sample(num_samples=nuts_samples, num_warmup=nuts_burnin, num_chains=nuts_chains)\n",
    "print(f\"{time.time() - start:.02f} seconds elapsed\")"
   ]
  },
  {
   "cell_type": "code",
   "execution_count": null,
   "metadata": {},
   "outputs": [],
   "source": [
    "# Evaluate fit\n",
    "arviz.plot_trace(fit, figsize=(8, 6));"
   ]
  },
  {
   "cell_type": "code",
   "execution_count": null,
   "metadata": {},
   "outputs": [],
   "source": [
    "fit = fit.to_frame()\n",
    "print(\"Inference on fitted model:\")\n",
    "fit.describe().T"
   ]
  },
  {
   "cell_type": "code",
   "execution_count": null,
   "metadata": {},
   "outputs": [],
   "source": [
    "print('Ground truth:')\n",
    "print('Setting-specific transmission rates: ', true_transmission_rate)\n",
    "print('Base rate: ', base_rate)\n",
    "print('Testing rates: ', true_gamma)"
   ]
  }
 ],
 "metadata": {
  "kernelspec": {
   "display_name": "Python 3",
   "language": "python",
   "name": "python3"
  },
  "language_info": {
   "codemirror_mode": {
    "name": "ipython",
    "version": 3
   },
   "file_extension": ".py",
   "mimetype": "text/x-python",
   "name": "python",
   "nbconvert_exporter": "python",
   "pygments_lexer": "ipython3",
   "version": "3.7.10"
  }
 },
 "nbformat": 4,
 "nbformat_minor": 4
}
