{
 "cells": [
  {
   "cell_type": "code",
   "execution_count": 1,
   "metadata": {},
   "outputs": [],
   "source": [
    "import pystan"
   ]
  },
  {
   "cell_type": "code",
   "execution_count": 2,
   "metadata": {},
   "outputs": [
    {
     "name": "stderr",
     "output_type": "stream",
     "text": [
      "INFO:pystan:COMPILING THE C++ CODE FOR MODEL anon_model_19a09b474d1901f191444eaf8a6b8ce2 NOW.\n"
     ]
    }
   ],
   "source": [
    "schools_code = \"\"\"\n",
    "data {\n",
    "    int<lower=0> J; // number of schools\n",
    "    vector[J] y; // estimated treatment effects\n",
    "    vector<lower=0>[J] sigma; // s.e. of effect estimates\n",
    "}\n",
    "parameters {\n",
    "    real mu;\n",
    "    real<lower=0> tau;\n",
    "    vector[J] eta;\n",
    "}\n",
    "transformed parameters {\n",
    "    vector[J] theta;\n",
    "    theta = mu + tau * eta;\n",
    "}\n",
    "model {\n",
    "    eta ~ normal(0, 1);\n",
    "    y ~ normal(theta, sigma);\n",
    "}\n",
    "\"\"\"\n",
    "\n",
    "sm = pystan.StanModel(model_code=schools_code)"
   ]
  },
  {
   "cell_type": "code",
   "execution_count": 3,
   "metadata": {},
   "outputs": [
    {
     "name": "stderr",
     "output_type": "stream",
     "text": [
      "WARNING:pystan:1 of 2000 iterations ended with a divergence (0.05 %).\n",
      "WARNING:pystan:Try running with adapt_delta larger than 0.8 to remove the divergences.\n"
     ]
    }
   ],
   "source": [
    "schools_dat = {'J': 8,\n",
    "               'y': [28,  8, -3,  7, -1,  1, 18, 12],\n",
    "               'sigma': [15, 10, 16, 11,  9, 11, 10, 18]}\n",
    "\n",
    "\n",
    "fit = sm.sampling(data=schools_dat, iter=1000, chains=4)"
   ]
  },
  {
   "cell_type": "code",
   "execution_count": 5,
   "metadata": {},
   "outputs": [
    {
     "name": "stdout",
     "output_type": "stream",
     "text": [
      "Inference for Stan model: anon_model_19a09b474d1901f191444eaf8a6b8ce2.\n",
      "4 chains, each with iter=1000; warmup=500; thin=1; \n",
      "post-warmup draws per chain=500, total post-warmup draws=2000.\n",
      "\n",
      "           mean se_mean     sd   2.5%    25%     50%    75%  97.5%  n_eff   Rhat\n",
      "mu         8.11    0.12   4.89  -1.25   4.88    8.12  11.26  17.63   1616    1.0\n",
      "tau        6.38     0.2    5.7   0.18   2.32    4.97   8.68  20.93    809    1.0\n",
      "eta[1]     0.35    0.02   0.88   -1.5   -0.2    0.35   0.94   2.04   2002    1.0\n",
      "eta[2]   6.8e-3    0.02   0.91  -1.83  -0.58 -7.9e-4   0.59   1.82   1985    1.0\n",
      "eta[3]    -0.21    0.02   0.93  -1.94  -0.83   -0.23   0.38   1.68   2266    1.0\n",
      "eta[4]    -0.07    0.02   0.89  -1.79  -0.67   -0.09   0.55   1.65   2102    1.0\n",
      "eta[5]    -0.37    0.02   0.85  -2.01  -0.96   -0.38   0.17   1.32   2272    1.0\n",
      "eta[6]     -0.2    0.02   0.89  -1.97   -0.8   -0.19    0.4   1.58   1985    1.0\n",
      "eta[7]     0.35    0.02   0.88  -1.52  -0.17    0.39   0.87   2.04   2065    1.0\n",
      "eta[8]     0.05    0.02   0.92  -1.88  -0.52    0.07    0.6   1.96   2024    1.0\n",
      "theta[1]  11.15    0.19   8.06  -2.61   6.26   10.04   15.1  30.44   1776    1.0\n",
      "theta[2]   7.94    0.12   6.05  -4.62   4.06    7.95  11.92  19.73   2557    1.0\n",
      "theta[3]   6.17    0.18   7.75  -12.9    2.3    6.62  10.69  20.24   1907    1.0\n",
      "theta[4]   7.65    0.14   6.64  -5.55   3.52    7.72  11.53  21.54   2298    1.0\n",
      "theta[5]   5.36    0.14   6.17  -8.22   1.78    5.72    9.5  16.48   2014    1.0\n",
      "theta[6]    6.4    0.14   6.55  -7.99   2.46    6.69  10.67  18.54   2144    1.0\n",
      "theta[7]  10.82    0.16   6.71  -0.75   6.34   10.07  14.49  26.46   1825    1.0\n",
      "theta[8]   8.45    0.16   7.45  -6.96   4.03    8.33  12.78  23.81   2192    1.0\n",
      "lp__      -4.85    0.12   2.74 -11.12  -6.44   -4.58  -2.92  -0.49    513    1.0\n",
      "\n",
      "Samples were drawn using NUTS at Thu Jan 21 13:17:34 2021.\n",
      "For each parameter, n_eff is a crude measure of effective sample size,\n",
      "and Rhat is the potential scale reduction factor on split chains (at \n",
      "convergence, Rhat=1).\n"
     ]
    }
   ],
   "source": [
    "print(fit)"
   ]
  }
 ],
 "metadata": {
  "kernelspec": {
   "display_name": "Test and Trace",
   "language": "python",
   "name": "test-and-trace-env"
  },
  "language_info": {
   "codemirror_mode": {
    "name": "ipython",
    "version": 3
   },
   "file_extension": ".py",
   "mimetype": "text/x-python",
   "name": "python",
   "nbconvert_exporter": "python",
   "pygments_lexer": "ipython3",
   "version": "3.8.6"
  }
 },
 "nbformat": 4,
 "nbformat_minor": 4
}
